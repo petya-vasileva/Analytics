{
 "cells": [
  {
   "cell_type": "code",
   "execution_count": 41,
   "metadata": {},
   "outputs": [
    {
     "name": "stdout",
     "output_type": "stream",
     "text": [
      "Connection Successful\n"
     ]
    }
   ],
   "source": [
    "from elasticsearch import Elasticsearch\n",
    "from elasticsearch.helpers import scan, bulk\n",
    "from time import time, strftime, localtime, sleep\n",
    "from datetime import datetime, timedelta\n",
    "from itertools import islice\n",
    "import pickle\n",
    "import numpy as np\n",
    "import pandas as pd\n",
    "import json\n",
    "import multiprocessing as mp\n",
    "import matplotlib.pyplot as plt\n",
    "import matplotlib.axes as ax\n",
    "\n",
    "# import cufflinks as cf\n",
    "import plotly as py\n",
    "import plotly.graph_objects as go\n",
    "\n",
    "import seaborn as sns\n",
    "%matplotlib inline\n",
    "\n",
    "user = None\n",
    "passwd = None\n",
    "if user is None and passwd is None:\n",
    "    with open(\"creds.key\") as f:\n",
    "        user = f.readline().strip()\n",
    "        passwd = f.readline().strip()\n",
    "credentials = (user, passwd)\n",
    "es = Elasticsearch(['atlas-kibana.mwt2.org:9200'], timeout=240, http_auth=credentials)\n",
    "\n",
    "print(\"Connection Successful\") if es.ping() == True else print(\"Connection Unsuccessful\")\n",
    "\n"
   ]
  },
  {
   "cell_type": "code",
   "execution_count": 2,
   "metadata": {},
   "outputs": [
    {
     "name": "stdout",
     "output_type": "stream",
     "text": [
      "next 100K 0\n",
      "next 100K 100000\n",
      "next 100K 200000\n",
      "next 100K 300000\n",
      "next 100K 400000\n",
      "next 100K 500000\n",
      "next 100K 600000\n",
      "next 100K 700000\n",
      "next 100K 800000\n",
      "next 100K 900000\n",
      "next 100K 1000000\n",
      "next 100K 1100000\n",
      "next 100K 1200000\n",
      "next 100K 1300000\n",
      "next 100K 1400000\n",
      "next 100K 1500000\n",
      "next 100K 1600000\n",
      "next 100K 1700000\n",
      "next 100K 1800000\n",
      "next 100K 1900000\n",
      "next 100K 2000000\n",
      "next 100K 2100000\n",
      "next 100K 2200000\n",
      "next 100K 2300000\n",
      "next 100K 2400000\n",
      "next 100K 2500000\n",
      "next 100K 2600000\n",
      "next 100K 2700000\n",
      "next 100K 2800000\n",
      "next 100K 2900000\n",
      "next 100K 3000000\n",
      "next 100K 3100000\n",
      "next 100K 3200000\n",
      "next 100K 3300000\n",
      "next 100K 3400000\n",
      "next 100K 3500000\n",
      "next 100K 3600000\n",
      "next 100K 3700000\n",
      "next 100K 3800000\n",
      "next 100K 3900000\n",
      "next 100K 4000000\n",
      "next 100K 4100000\n",
      "next 100K 4200000\n",
      "next 100K 4300000\n",
      "next 100K 4400000\n",
      "next 100K 4500000\n",
      "next 100K 4600000\n",
      "next 100K 4700000\n",
      "next 100K 4800000\n",
      "next 100K 4900000\n",
      "next 100K 5000000\n",
      "next 100K 5100000\n",
      "next 100K 5200000\n",
      "next 100K 5300000\n",
      "next 100K 5400000\n",
      "next 100K 5500000\n",
      "next 100K 5600000\n",
      "next 100K 5700000\n",
      "next 100K 5800000\n",
      "next 100K 5900000\n",
      "next 100K 6000000\n",
      "next 100K 6100000\n",
      "next 100K 6200000\n",
      "next 100K 6300000\n",
      "next 100K 6400000\n"
     ]
    }
   ],
   "source": [
    "# All data  (GMT): Monday, January 12, 2020 3:52:49 -> January 13, 2020 15:52:49 \n",
    "query = {\n",
    "    \"size\": 5,\n",
    "  \"query\": {\n",
    "    \"bool\":{\n",
    "      \"must\":[\n",
    "        {\n",
    "          \"range\": {\n",
    "            \"timestamp\": {\n",
    "              \"gte\": \"1578844369000\",\n",
    "              \"lt\": \"1578930769000\" \n",
    "            }\n",
    "          }\n",
    "        }\n",
    "      ]\n",
    "    }\n",
    "  }\n",
    "}\n",
    "\n",
    "    \n",
    "data = scan(es, index=\"ps_packetloss\", query=query)\n",
    "#data = es.search(\"ps_packetloss\", body=query)\n",
    "\n",
    "res = []\n",
    "temp = []\n",
    "i = 0\n",
    "for d in data:\n",
    "    res.append(d['_source'])\n",
    "    #print(d)\n",
    "    if i % 100000 == 0:\n",
    "        print(\"next 100K\",i)\n",
    "#     if i == 100000:\n",
    "#         break\n",
    "    i = i + 1\n"
   ]
  },
  {
   "cell_type": "code",
   "execution_count": null,
   "metadata": {
    "collapsed": true,
    "jupyter": {
     "outputs_hidden": true
    }
   },
   "outputs": [],
   "source": []
  },
  {
   "cell_type": "code",
   "execution_count": 3,
   "metadata": {},
   "outputs": [],
   "source": [
    "dfr = pd.DataFrame(res)"
   ]
  },
  {
   "cell_type": "code",
   "execution_count": null,
   "metadata": {},
   "outputs": [],
   "source": []
  },
  {
   "cell_type": "code",
   "execution_count": 4,
   "metadata": {},
   "outputs": [],
   "source": [
    "dfr['dt'] = pd.to_datetime(dfr['timestamp'], unit='ms')\n",
    "agg_data = (dfr.groupby(['src_VO', 'src_site', 'src_host', 'src', 'dest_VO', 'dest_site', 'dest_host', 'dest', \n",
    "                         pd.Grouper(key='dt', freq='1h')]).agg({'packet_loss':'mean'}))"
   ]
  },
  {
   "cell_type": "code",
   "execution_count": 5,
   "metadata": {},
   "outputs": [
    {
     "data": {
      "text/html": [
       "<div>\n",
       "<style scoped>\n",
       "    .dataframe tbody tr th:only-of-type {\n",
       "        vertical-align: middle;\n",
       "    }\n",
       "\n",
       "    .dataframe tbody tr th {\n",
       "        vertical-align: top;\n",
       "    }\n",
       "\n",
       "    .dataframe thead th {\n",
       "        text-align: right;\n",
       "    }\n",
       "</style>\n",
       "<table border=\"1\" class=\"dataframe\">\n",
       "  <thead>\n",
       "    <tr style=\"text-align: right;\">\n",
       "      <th></th>\n",
       "      <th></th>\n",
       "      <th></th>\n",
       "      <th></th>\n",
       "      <th></th>\n",
       "      <th></th>\n",
       "      <th></th>\n",
       "      <th></th>\n",
       "      <th></th>\n",
       "      <th>packet_loss</th>\n",
       "    </tr>\n",
       "    <tr>\n",
       "      <th>src_VO</th>\n",
       "      <th>src_site</th>\n",
       "      <th>src_host</th>\n",
       "      <th>src</th>\n",
       "      <th>dest_VO</th>\n",
       "      <th>dest_site</th>\n",
       "      <th>dest_host</th>\n",
       "      <th>dest</th>\n",
       "      <th>dt</th>\n",
       "      <th></th>\n",
       "    </tr>\n",
       "  </thead>\n",
       "  <tbody>\n",
       "    <tr>\n",
       "      <th rowspan=\"3\" valign=\"top\"></th>\n",
       "      <th rowspan=\"3\" valign=\"top\">FI_HIP_T2</th>\n",
       "      <th rowspan=\"3\" valign=\"top\">pship01.csc.fi</th>\n",
       "      <th rowspan=\"3\" valign=\"top\">109.105.125.232</th>\n",
       "      <th rowspan=\"3\" valign=\"top\"></th>\n",
       "      <th rowspan=\"3\" valign=\"top\">GLOW</th>\n",
       "      <th rowspan=\"3\" valign=\"top\">perfsonar01.hep.wisc.edu</th>\n",
       "      <th rowspan=\"3\" valign=\"top\">144.92.180.75</th>\n",
       "      <th>2020-01-12 15:00:00</th>\n",
       "      <td>0.000000</td>\n",
       "    </tr>\n",
       "    <tr>\n",
       "      <th>2020-01-12 16:00:00</th>\n",
       "      <td>0.000028</td>\n",
       "    </tr>\n",
       "    <tr>\n",
       "      <th>2020-01-12 17:00:00</th>\n",
       "      <td>0.000053</td>\n",
       "    </tr>\n",
       "  </tbody>\n",
       "</table>\n",
       "</div>"
      ],
      "text/plain": [
       "                                                                                                                              packet_loss\n",
       "src_VO src_site  src_host       src             dest_VO dest_site dest_host                dest          dt                              \n",
       "       FI_HIP_T2 pship01.csc.fi 109.105.125.232         GLOW      perfsonar01.hep.wisc.edu 144.92.180.75 2020-01-12 15:00:00     0.000000\n",
       "                                                                                                         2020-01-12 16:00:00     0.000028\n",
       "                                                                                                         2020-01-12 17:00:00     0.000053"
      ]
     },
     "execution_count": 5,
     "metadata": {},
     "output_type": "execute_result"
    }
   ],
   "source": [
    "agg_data.head(3)"
   ]
  },
  {
   "cell_type": "code",
   "execution_count": null,
   "metadata": {},
   "outputs": [],
   "source": []
  },
  {
   "cell_type": "code",
   "execution_count": 6,
   "metadata": {},
   "outputs": [],
   "source": [
    "ip_table = pd.pivot_table(agg_data, values='packet_loss', index=['src'], columns=['dest'], aggfunc=[np.mean])\n",
    "host_table = pd.pivot_table(agg_data, values='packet_loss', index=['src_host'], columns=['dest_host'], aggfunc=[np.mean])\n",
    "site_table = pd.pivot_table(agg_data, values='packet_loss', index=['src_site'], columns=['dest_site'], aggfunc=[np.mean])"
   ]
  },
  {
   "cell_type": "code",
   "execution_count": 7,
   "metadata": {},
   "outputs": [],
   "source": [
    "from sklearn.preprocessing import MinMaxScaler\n",
    "\n",
    "scaler = MinMaxScaler()\n",
    "scaled_ipt = scaler.fit_transform(ip_table.values)\n",
    "scaled_ht = scaler.fit_transform(host_table.values)\n",
    "scaled_st = scaler.fit_transform(site_table.values)"
   ]
  },
  {
   "cell_type": "code",
   "execution_count": 42,
   "metadata": {},
   "outputs": [],
   "source": [
    "# Contruct an inteactive heatmap with Plotly\n",
    "def buildFig(df, scaled_vals, period, x_title, y_title):\n",
    "    fig = go.Figure(go.Heatmap(\n",
    "        x=df.columns.levels[1],\n",
    "        y=df.index,\n",
    "        z=scaled_vals,\n",
    "        hovertext=df.values,\n",
    "        colorscale='algae'\n",
    "    ))\n",
    "\n",
    "    fig.update_layout(\n",
    "        title='Avg Packet Loss for '+period,\n",
    "        xaxis = {\n",
    "                 'title': x_title, \n",
    "                 'type': 'category'\n",
    "                 },\n",
    "        yaxis = {\n",
    "                'title': y_title,\n",
    "                'type': 'category',\n",
    "                },\n",
    "        font=dict(size=9),\n",
    "        paper_bgcolor='rgba(0,0,0,0)',\n",
    "        plot_bgcolor='rgba(0,0,0,0)')\n",
    "    py.offline.plot(fig)"
   ]
  },
  {
   "cell_type": "code",
   "execution_count": 43,
   "metadata": {},
   "outputs": [],
   "source": [
    "# Crete the plots offline. Look for a temp.plot.html file\n",
    "buildFig(ip_table, scaled_ipt, '12-13 Jan 2020', 'Destination IP', 'Source IP')"
   ]
  },
  {
   "cell_type": "code",
   "execution_count": null,
   "metadata": {},
   "outputs": [],
   "source": [
    "buildFig(host_table, scaled_ht, '12-13 Jan 2020', 'Destination host', 'Source host')"
   ]
  },
  {
   "cell_type": "code",
   "execution_count": 44,
   "metadata": {},
   "outputs": [],
   "source": [
    "buildFig(site_table, scaled_st, '12-13 Jan 2020', 'Destination site', 'Source site')"
   ]
  },
  {
   "cell_type": "code",
   "execution_count": 28,
   "metadata": {},
   "outputs": [
    {
     "data": {
      "image/png": "[encoded data removed]",
      "text/plain": [
       "<Figure size 720x360 with 1 Axes>"
      ]
     },
     "metadata": {
      "needs_background": "light"
     },
     "output_type": "display_data"
    }
   ],
   "source": [
    "# Get value distribution plot\n",
    "plt.figure(figsize=(10,5))\n",
    "sns.distplot(agg_data['packet_loss'], rug=True);"
   ]
  },
  {
   "cell_type": "code",
   "execution_count": null,
   "metadata": {},
   "outputs": [],
   "source": [
    "# Unpivot data\n",
    "unp_data = agg_data.copy()\n",
    "unp_data.reset_index(inplace=True)"
   ]
  },
  {
   "cell_type": "code",
   "execution_count": 29,
   "metadata": {},
   "outputs": [
    {
     "data": {
      "text/html": [
       "<div>\n",
       "<style scoped>\n",
       "    .dataframe tbody tr th:only-of-type {\n",
       "        vertical-align: middle;\n",
       "    }\n",
       "\n",
       "    .dataframe tbody tr th {\n",
       "        vertical-align: top;\n",
       "    }\n",
       "\n",
       "    .dataframe thead th {\n",
       "        text-align: right;\n",
       "    }\n",
       "</style>\n",
       "<table border=\"1\" class=\"dataframe\">\n",
       "  <thead>\n",
       "    <tr style=\"text-align: right;\">\n",
       "      <th></th>\n",
       "      <th>Percetage</th>\n",
       "      <th>Value</th>\n",
       "    </tr>\n",
       "  </thead>\n",
       "  <tbody>\n",
       "    <tr>\n",
       "      <th>0</th>\n",
       "      <td>0%</td>\n",
       "      <td>474550</td>\n",
       "    </tr>\n",
       "    <tr>\n",
       "      <th>1</th>\n",
       "      <td>0-5%</td>\n",
       "      <td>421070</td>\n",
       "    </tr>\n",
       "    <tr>\n",
       "      <th>2</th>\n",
       "      <td>5-10%</td>\n",
       "      <td>6030</td>\n",
       "    </tr>\n",
       "    <tr>\n",
       "      <th>3</th>\n",
       "      <td>10%-30%</td>\n",
       "      <td>1380</td>\n",
       "    </tr>\n",
       "    <tr>\n",
       "      <th>4</th>\n",
       "      <td>30%-90%</td>\n",
       "      <td>1520</td>\n",
       "    </tr>\n",
       "    <tr>\n",
       "      <th>5</th>\n",
       "      <td>90%-100%</td>\n",
       "      <td>2020</td>\n",
       "    </tr>\n",
       "    <tr>\n",
       "      <th>6</th>\n",
       "      <td>100%</td>\n",
       "      <td>30920</td>\n",
       "    </tr>\n",
       "  </tbody>\n",
       "</table>\n",
       "</div>"
      ],
      "text/plain": [
       "  Percetage   Value\n",
       "0        0%  474550\n",
       "1      0-5%  421070\n",
       "2     5-10%    6030\n",
       "3   10%-30%    1380\n",
       "4   30%-90%    1520\n",
       "5  90%-100%    2020\n",
       "6      100%   30920"
      ]
     },
     "execution_count": 29,
     "metadata": {},
     "output_type": "execute_result"
    }
   ],
   "source": [
    "# See what is the most common range of loss in % for all test entries\n",
    "zeros = unp_data[unp_data['packet_loss'] == 0].count(axis=1).sum()\n",
    "zero0 = unp_data[(unp_data['packet_loss'] > 0) & (unp_data['packet_loss'] <= 0.05)].count(axis=1).sum()\n",
    "zero1 = unp_data[(unp_data['packet_loss'] > 0.05) & (unp_data['packet_loss'] <= 0.1)].count(axis=1).sum()\n",
    "zero2 = unp_data[(unp_data['packet_loss'] > 0.1) & (unp_data['packet_loss'] <= 0.3)].count(axis=1).sum()\n",
    "zero3 = unp_data[(unp_data['packet_loss'] > 0.3) & (unp_data['packet_loss'] <= 0.9)].count(axis=1).sum()\n",
    "zero4 = unp_data[(unp_data['packet_loss'] > 0.9) & (unp_data['packet_loss'] < 1)].count(axis=1).sum()\n",
    "ones = unp_data[(unp_data['packet_loss'] == 1)].count(axis=1).sum()\n",
    "\n",
    "todf = pd.DataFrame(columns=['Percetage', 'Value'])\n",
    "todf['Percetage'] = ['0%', '0-5%', '5-10%', '10%-30%', '30%-90%', '90%-100%','100%']\n",
    "todf['Value'] = [zeros, zero0, zero1, zero2, zero3, zero4, ones]\n",
    "\n",
    "todf"
   ]
  },
  {
   "cell_type": "code",
   "execution_count": 31,
   "metadata": {},
   "outputs": [
    {
     "data": {
      "text/plain": [
       "Text(0, 0.5, 'Counted by Src-Dest pair')"
      ]
     },
     "execution_count": 31,
     "metadata": {},
     "output_type": "execute_result"
    },
    {
     "data": {
      "image/png": "[encoded data removed]",
      "text/plain": [
       "<Figure size 1440x360 with 1 Axes>"
      ]
     },
     "metadata": {},
     "output_type": "display_data"
    }
   ],
   "source": [
    "# Build a barplot based on the above\n",
    "sns.set(style=\"whitegrid\")\n",
    "plt.figure(figsize=(20,5))\n",
    "ax = sns.barplot(x=todf['Percetage'], y=todf['Value'], data=todf)\n",
    "for index, row in todf.iterrows():\n",
    "    ax.text(row.name,row.Value, row.Value, color='black', ha=\"center\")\n",
    "    \n",
    "plt.title('Packet Loss for 12-13 Jan 2020')\n",
    "plt.xlabel('Average loss for 1h')\n",
    "plt.ylabel('Counted by Src-Dest pair')"
   ]
  },
  {
   "cell_type": "code",
   "execution_count": 32,
   "metadata": {},
   "outputs": [
    {
     "data": {
      "text/html": [
       "<div>\n",
       "<style scoped>\n",
       "    .dataframe tbody tr th:only-of-type {\n",
       "        vertical-align: middle;\n",
       "    }\n",
       "\n",
       "    .dataframe tbody tr th {\n",
       "        vertical-align: top;\n",
       "    }\n",
       "\n",
       "    .dataframe thead th {\n",
       "        text-align: right;\n",
       "    }\n",
       "</style>\n",
       "<table border=\"1\" class=\"dataframe\">\n",
       "  <thead>\n",
       "    <tr style=\"text-align: right;\">\n",
       "      <th></th>\n",
       "      <th></th>\n",
       "      <th>packet_loss</th>\n",
       "    </tr>\n",
       "    <tr>\n",
       "      <th>src</th>\n",
       "      <th>dest</th>\n",
       "      <th></th>\n",
       "    </tr>\n",
       "  </thead>\n",
       "  <tbody>\n",
       "    <tr>\n",
       "      <th rowspan=\"5\" valign=\"top\">109.105.124.86</th>\n",
       "      <th>129.107.255.29</th>\n",
       "      <td>0.000001</td>\n",
       "    </tr>\n",
       "    <tr>\n",
       "      <th>129.15.40.231</th>\n",
       "      <td>0.000001</td>\n",
       "    </tr>\n",
       "    <tr>\n",
       "      <th>130.246.47.129</th>\n",
       "      <td>0.000057</td>\n",
       "    </tr>\n",
       "    <tr>\n",
       "      <th>134.219.225.13</th>\n",
       "      <td>0.000002</td>\n",
       "    </tr>\n",
       "    <tr>\n",
       "      <th>134.79.118.72</th>\n",
       "      <td>0.000000</td>\n",
       "    </tr>\n",
       "  </tbody>\n",
       "</table>\n",
       "</div>"
      ],
      "text/plain": [
       "                               packet_loss\n",
       "src            dest                       \n",
       "109.105.124.86 129.107.255.29     0.000001\n",
       "               129.15.40.231      0.000001\n",
       "               130.246.47.129     0.000057\n",
       "               134.219.225.13     0.000002\n",
       "               134.79.118.72      0.000000"
      ]
     },
     "execution_count": 32,
     "metadata": {},
     "output_type": "execute_result"
    }
   ],
   "source": [
    "# Agregate data by src-dest IPs and get the mean loss\n",
    "\n",
    "loss = unp_data.groupby(['src', 'dest'])['src', 'dest', 'packet_loss'].mean()\n",
    "loss[loss['packet_loss'] < 1].head()"
   ]
  },
  {
   "cell_type": "code",
   "execution_count": 33,
   "metadata": {},
   "outputs": [],
   "source": [
    "# See what is the most common range of loss in % for all test entries\n",
    "\n",
    "zeros = loss[loss['packet_loss'] == 0].count(axis=1).sum()\n",
    "zero0 = loss[(loss['packet_loss'] > 0) & (loss['packet_loss'] <= 0.05)].count(axis=1).sum()\n",
    "zero1 = loss[(loss['packet_loss'] > 0.05) & (loss['packet_loss'] <= 0.1)].count(axis=1).sum()\n",
    "zero2 = loss[(loss['packet_loss'] > 0.1) & (loss['packet_loss'] <= 0.3)].count(axis=1).sum()\n",
    "zero3 = loss[(loss['packet_loss'] > 0.3) & (loss['packet_loss'] <= 0.9)].count(axis=1).sum()\n",
    "zero4 = loss[(loss['packet_loss'] > 0.9) & (loss['packet_loss'] < 1)].count(axis=1).sum()\n",
    "ones = loss[(loss['packet_loss'] == 1)].count(axis=1).sum()\n",
    "\n",
    "todf1 = pd.DataFrame(columns=['Percetage', 'Value'])\n",
    "todf1['Percetage'] = ['0%', '0-5%', '5-10%', '10%-30%', '30%-90%', '90%-100%','100%']\n",
    "todf1['Value'] = [zeros, zero0, zero1, zero2, zero3, zero4, ones]"
   ]
  },
  {
   "cell_type": "code",
   "execution_count": 34,
   "metadata": {},
   "outputs": [
    {
     "data": {
      "text/plain": [
       "Text(0, 0.5, 'Grouped by Src-Dest')"
      ]
     },
     "execution_count": 34,
     "metadata": {},
     "output_type": "execute_result"
    },
    {
     "data": {
      "image/png": "[encoded data removed]",
      "text/plain": [
       "<Figure size 1440x360 with 1 Axes>"
      ]
     },
     "metadata": {},
     "output_type": "display_data"
    }
   ],
   "source": [
    "sns.set(style=\"whitegrid\")\n",
    "plt.figure(figsize=(20,5))\n",
    "ax = sns.barplot(x=todf1['Percetage'], y=todf1['Value'], data=todf1)\n",
    "for index, row in todf1.iterrows():\n",
    "    ax.text(row.name,row.Value, row.Value, color='black', ha=\"center\")\n",
    "    \n",
    "plt.title('Packet Loss for 12-13 Jan 2020')\n",
    "plt.xlabel('Average loss')\n",
    "plt.ylabel('Grouped by Src-Dest')"
   ]
  },
  {
   "cell_type": "code",
   "execution_count": null,
   "metadata": {},
   "outputs": [],
   "source": []
  },
  {
   "cell_type": "code",
   "execution_count": null,
   "metadata": {},
   "outputs": [],
   "source": []
  }
 ],
 "metadata": {
  "kernelspec": {
   "display_name": "Python 3",
   "language": "python",
   "name": "python3"
  },
  "language_info": {
   "codemirror_mode": {
    "name": "ipython",
    "version": 3
   },
   "file_extension": ".py",
   "mimetype": "text/x-python",
   "name": "python",
   "nbconvert_exporter": "python",
   "pygments_lexer": "ipython3",
   "version": "3.5.2"
  }
 },
 "nbformat": 4,
 "nbformat_minor": 4
}
