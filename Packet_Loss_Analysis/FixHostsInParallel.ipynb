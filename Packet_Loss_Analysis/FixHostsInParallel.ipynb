{
 "cells": [
  {
   "cell_type": "code",
   "execution_count": 1,
   "metadata": {},
   "outputs": [],
   "source": [
    "from datetime import datetime\n",
    "import time\n",
    "import pandas as pd\n",
    "import helpers as hp\n",
    "from elasticsearch.helpers import scan\n",
    "\n",
    "def RunQuery(idx, time_from, time_to):\n",
    "    query = {\n",
    "      \"size\": 0,\n",
    "      \"query\": {\n",
    "        \"bool\":{\n",
    "          \"must\":[\n",
    "            {\n",
    "              \"range\": {\n",
    "                \"timestamp\": {\n",
    "                  \"gte\": time_from,\n",
    "                  \"lt\": time_to\n",
    "                }\n",
    "              }\n",
    "            }\n",
    "          ]\n",
    "        }\n",
    "      }\n",
    "    }\n",
    "\n",
    "\n",
    "    results = scan(hp.es, index=idx, query=query)\n",
    "\n",
    "    data = []\n",
    "    for d in results:\n",
    "        data.append(d['_source'])\n",
    "            \n",
    "    return data"
   ]
  },
  {
   "cell_type": "code",
   "execution_count": 2,
   "metadata": {},
   "outputs": [
    {
     "name": "stdout",
     "output_type": "stream",
     "text": [
      ">>> Main process start: 09:51:10\n",
      "Start: 09:51:33\n",
      "Next 100000 items\n",
      "Next 200000 items\n",
      "Time elapsed = 343s\n",
      "before: 220558 after: 185832 reduced by 16 %\n",
      "Start: 09:57:34\n",
      "Next 100000 items\n",
      "Next 200000 items\n",
      "Time elapsed = 321s\n",
      "before: 221328 after: 186590 reduced by 16 %\n",
      "Start: 10:03:13\n",
      "Next 100000 items\n",
      "Next 200000 items\n",
      "Time elapsed = 310s\n",
      "before: 222803 after: 188435 reduced by 15 %\n",
      "Number of active hosts: total( 315 ) - unresolved( 190 ) =  125\n",
      ">>> Overall elapsed = 1034s\n"
     ]
    }
   ],
   "source": [
    "def ProcessDataInChunks(idx, dateFrom, dateTo, chunks):\n",
    "    start = time.time()\n",
    "    print('>>> Main process start:', time.strftime(\"%H:%M:%S\", time.localtime()))\n",
    "    \n",
    "    time_range = list(hp.GetTimeRanges(dateFrom, dateTo, chunks))\n",
    "    \n",
    "    for field in ['src_host', 'dest_host']:\n",
    "        hp.GetIdxUniqueHosts(idx, field, time_range[0], time_range[-1])\n",
    "\n",
    "    data = [] \n",
    "    for i in range(len(time_range)-1):\n",
    "        curr_t = time_range[i]\n",
    "        next_t = time_range[i+1]\n",
    "      \n",
    "        results = RunQuery(idx, curr_t, next_t)\n",
    "        prdata = hp.ProcessHosts(data=results, saveUnresolved=True)\n",
    "        \n",
    "        print('before:', len(results), 'after:', len(prdata), 'reduced by', round(((len(results)-len(prdata))/ len(results))*100), '%')\n",
    "        \n",
    "        data.extend(prdata)\n",
    "        \n",
    "    print('Number of active hosts: total(',len(hp.hosts),') - unresolved(',len(hp.unresolved),') = ',len(hp.hosts) - len(hp.unresolved))   \n",
    "    print(\">>> Overall elapsed = %ss\" % (int(time.time() - start)))\n",
    "        \n",
    "    return data\n",
    "    \n",
    "    \n",
    "p_data = ProcessDataInChunks('ps_packetloss', '2020-03-23 10:00', '2020-03-23 13:00', 3)"
   ]
  },
  {
   "cell_type": "code",
   "execution_count": null,
   "metadata": {},
   "outputs": [],
   "source": []
  },
  {
   "cell_type": "code",
   "execution_count": 5,
   "metadata": {},
   "outputs": [],
   "source": [
    "dfr = pd.DataFrame(p_data)"
   ]
  }
 ],
 "metadata": {
  "kernelspec": {
   "display_name": "Python 3",
   "language": "python",
   "name": "python3"
  },
  "language_info": {
   "codemirror_mode": {
    "name": "ipython",
    "version": 3
   },
   "file_extension": ".py",
   "mimetype": "text/x-python",
   "name": "python",
   "nbconvert_exporter": "python",
   "pygments_lexer": "ipython3",
   "version": "3.5.2"
  }
 },
 "nbformat": 4,
 "nbformat_minor": 4
}
