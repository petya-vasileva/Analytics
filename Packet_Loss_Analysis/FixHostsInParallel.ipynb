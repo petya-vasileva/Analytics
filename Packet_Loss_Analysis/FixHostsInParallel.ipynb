{
 "cells": [
  {
   "cell_type": "code",
   "execution_count": 1,
   "metadata": {},
   "outputs": [],
   "source": [
    "def ProcessDataInChunks(time_from, time_to):\n",
    "    query = {\n",
    "      \"size\": 0,\n",
    "      \"query\": {\n",
    "        \"bool\":{\n",
    "          \"must\":[\n",
    "            {\n",
    "              \"range\": {\n",
    "                \"timestamp\": {\n",
    "                  \"gte\": time_from,\n",
    "                  \"lt\": time_to\n",
    "                }\n",
    "              }\n",
    "            }\n",
    "          ]\n",
    "        }\n",
    "      }\n",
    "    }\n",
    "\n",
    "\n",
    "    results = scan(es, index=\"ps_packetloss-00001*\", query=query)\n",
    "    #data = es.search(\"ps_packetloss\", body=query)\n",
    "\n",
    "    data = []\n",
    "    unknown = []\n",
    "    i = 0\n",
    "    for d in results:\n",
    "        temp = {}\n",
    "        data.append(d['_source'])\n",
    "#         if i % 100000 == 0:\n",
    "#             print(\"next 100K\",j)\n",
    "            \n",
    "    return data"
   ]
  },
  {
   "cell_type": "code",
   "execution_count": 2,
   "metadata": {},
   "outputs": [
    {
     "name": "stdout",
     "output_type": "stream",
     "text": [
      "Range: 2020-03-04 03:00:00 2020-03-04 04:00:00\n",
      "Start: 15:53:29\n",
      "Next 100000 items\n",
      "Next 200000 items\n",
      "Time elapsed = 348s\n",
      "Number of unique hosts: 287\n",
      "Range: 2020-03-04 04:00:00 2020-03-04 05:00:00\n",
      "Start: 15:59:35\n",
      "Next 100000 items\n",
      "Next 200000 items\n",
      "Time elapsed = 353s\n",
      "Number of unique hosts: 289\n"
     ]
    }
   ],
   "source": [
    "from datetime import datetime\n",
    "from time import mktime\n",
    "from elasticsearch.helpers import scan\n",
    "import pandas as pd\n",
    "import helpers as hp\n",
    "\n",
    "es = hp.es\n",
    "\n",
    "p_data = []\n",
    "for i in range(3,5):\n",
    "    # create ranges of 1 hour\n",
    "    start = datetime(2020, 3, 4, i, 0, 0)\n",
    "    end = datetime(2020, 3, 4, (i+1), 0, 0)   \n",
    "    print('Range:', start, end)\n",
    "    results = ProcessDataInChunks(int(mktime(start.timetuple())*1000), int(mktime(end.timetuple())*1000))\n",
    "    p_data.extend(hp.ProcessHosts(results))"
   ]
  },
  {
   "cell_type": "code",
   "execution_count": 5,
   "metadata": {},
   "outputs": [],
   "source": [
    "dfr = pd.DataFrame(p_data)"
   ]
  }
 ],
 "metadata": {
  "kernelspec": {
   "display_name": "Python 3",
   "language": "python",
   "name": "python3"
  },
  "language_info": {
   "codemirror_mode": {
    "name": "ipython",
    "version": 3
   },
   "file_extension": ".py",
   "mimetype": "text/x-python",
   "name": "python",
   "nbconvert_exporter": "python",
   "pygments_lexer": "ipython3",
   "version": "3.5.2"
  }
 },
 "nbformat": 4,
 "nbformat_minor": 4
}
