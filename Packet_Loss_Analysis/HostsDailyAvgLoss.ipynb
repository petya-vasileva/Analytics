{
 "cells": [
  {
   "cell_type": "code",
   "execution_count": 1,
   "metadata": {},
   "outputs": [
    {
     "name": "stdout",
     "output_type": "stream",
     "text": [
      "Connection Successful\n"
     ]
    }
   ],
   "source": [
    "from elasticsearch import Elasticsearch\n",
    "from elasticsearch.helpers import scan, bulk\n",
    "from itertools import islice\n",
    "import numpy as np\n",
    "import pandas as pd\n",
    "\n",
    "import matplotlib.pyplot as plt\n",
    "import matplotlib.axes as ax\n",
    "import plotly as py\n",
    "import plotly.graph_objects as go\n",
    "import seaborn as sns\n",
    "import plotly.express as px\n",
    "%matplotlib inline\n",
    "\n",
    "import helpers as hp\n",
    "\n",
    "user = None\n",
    "passwd = None\n",
    "if user is None and passwd is None:\n",
    "    with open(\"creds.key\") as f:\n",
    "        user = f.readline().strip()\n",
    "        passwd = f.readline().strip()\n",
    "credentials = (user, passwd)\n",
    "es = Elasticsearch(['atlas-kibana.mwt2.org:9200'], timeout=240, http_auth=credentials)\n",
    "\n",
    "print(\"Connection Successful\") if es.ping() == True else print(\"Connection Unsuccessful\")\n"
   ]
  },
  {
   "cell_type": "code",
   "execution_count": 2,
   "metadata": {},
   "outputs": [],
   "source": [
    "def getAvgPacketLossbyHost(es, fld, group, fromDate, toDate):\n",
    "    query = {\n",
    "      \"size\": 0, \n",
    "          \"query\": {\n",
    "            \"bool\":{\n",
    "              \"must\":[\n",
    "                {\n",
    "                  \"range\": {\n",
    "                    \"timestamp\": {\n",
    "                      \"gte\": fromDate,\n",
    "                      \"lte\": toDate\n",
    "                    }\n",
    "                  }\n",
    "                }\n",
    "              ]\n",
    "            }\n",
    "          },\n",
    "          \"aggs\":{\n",
    "            \"host\":{\n",
    "              \"terms\":{\n",
    "                \"field\":fld,\n",
    "                \"size\": 9999\n",
    "              },\n",
    "              \"aggs\":{\n",
    "                \"period\":{\n",
    "                  \"date_histogram\":{\n",
    "                    \"field\":\"timestamp\",\n",
    "                    \"calendar_interval\" : group\n",
    "                  },\n",
    "                  \"aggs\":{\n",
    "                    \"avg_loss\":{\n",
    "                      \"avg\":{\n",
    "                        \"field\": \"packet_loss\"\n",
    "                      }\n",
    "                    }\n",
    "                  }\n",
    "                }\n",
    "              }\n",
    "            }\n",
    "          }\n",
    "        }\n",
    "    \n",
    "\n",
    "\n",
    "    \n",
    "    data = es.search(\"ps_packetloss\", body=query)\n",
    "    \n",
    "    result = []\n",
    "    unknown = []\n",
    "\n",
    "    for host in data['aggregations']['host']['buckets']:\n",
    "        resolved = hp.ResolveHost(es, host['key'])\n",
    "        if (resolved['resolved']):\n",
    "            h = resolved['resolved']\n",
    "        elif (len(resolved['unknown'][0]) != 0) and (resolved['unknown'][0] not in unknown):\n",
    "            unknown.append(resolved['unknown']) \n",
    "                \n",
    "        for period in host['period']['buckets']:\n",
    "            result.append({'host':h, 'period':period['key'], 'avg_loss':period['avg_loss']['value']})\n",
    "            \n",
    "    return {'resolved': result, 'unknown': unknown} "
   ]
  },
  {
   "cell_type": "code",
   "execution_count": 3,
   "metadata": {},
   "outputs": [
    {
     "name": "stdout",
     "output_type": "stream",
     "text": [
      "IP 2001:4118:900:cc00::112 was found in ps_meta: perfsonar02-iep-grid.saske.sk\n"
     ]
    }
   ],
   "source": [
    "# from 31-12-2017 to 31-12-2019 Get a list sites and theis avg packet loss being a src_site and a dest_site\n",
    "# ssite = getAvgPacketLossbySiteOverAYear(es, 'src_site', 'day', '1514757601000', '1577829599000')\n",
    "# dsite = getAvgPacketLossbySiteOverAYear(es, 'dest_site', 'day', '1514757601000', '1577829599000')\n",
    "\n",
    "\n",
    "# from 01-12-2019 to 22-01-2020 Get a list hosts and theis avg packet loss being a src_host and a dest_host\n",
    "# ps_packetloss has data since mid December 2019 only\n",
    "ssite = getAvgPacketLossbyHost(es, 'src_host', 'day', '1575151349000', '1579687349000')\n",
    "dsite = getAvgPacketLossbyHost(es, 'dest_host', 'day', '1575151349000', '1579687349000')"
   ]
  },
  {
   "cell_type": "code",
   "execution_count": 4,
   "metadata": {},
   "outputs": [
    {
     "data": {
      "text/plain": [
       "[['perfsonar-latency.grid.surfsara.nl', 'Host not part of configuration'],\n",
       " ['lcg-lat.sfu.computecanada.ca', 'Host not part of configuration'],\n",
       " ['ps.truba.gov.tr', 'Host not part of configuration'],\n",
       " ['ps-londhx1.ja.net', 'Host not part of configuration'],\n",
       " ['lhcone-wash-opt1.es.net', 'Host not part of configuration'],\n",
       " ['perfsonar-fra-1.exoscale.ch', 'Host not part of configuration'],\n",
       " ['perfsonar40-otc.hnsc.otc-service.com', 'Host not part of configuration'],\n",
       " ['psmp-gn-owd-01.gen.ch.geant.net', 'Host not part of configuration'],\n",
       " ['psmp-gn-owd-01.fra.de.geant.net', 'Host not part of configuration'],\n",
       " ['psmp-gn-owd-01.ams.nl.geant.net', 'Host not part of configuration']]"
      ]
     },
     "execution_count": 4,
     "metadata": {},
     "output_type": "execute_result"
    }
   ],
   "source": [
    "ssite['unknown'][:10]"
   ]
  },
  {
   "cell_type": "code",
   "execution_count": 5,
   "metadata": {},
   "outputs": [
    {
     "data": {
      "text/plain": [
       "[]"
      ]
     },
     "execution_count": 5,
     "metadata": {},
     "output_type": "execute_result"
    }
   ],
   "source": [
    "dsite['unknown']"
   ]
  },
  {
   "cell_type": "code",
   "execution_count": 6,
   "metadata": {},
   "outputs": [],
   "source": [
    "# Build the DataFrames\n",
    "sdf = pd.DataFrame(ssite['resolved'])\n",
    "ddf = pd.DataFrame(dsite['resolved'])\n",
    "# sdf"
   ]
  },
  {
   "cell_type": "code",
   "execution_count": 7,
   "metadata": {},
   "outputs": [],
   "source": [
    "# Add a type column and merge the DataFrames\n",
    "\n",
    "sdf['period'] = pd.to_datetime(sdf['period'], unit='ms')\n",
    "# because of the unresolved hosts, we have multiple entries for the same host and the same period, so it is neccessary to find the mean \n",
    "sdf = sdf.groupby(['host', 'period'], as_index=False).mean()\n",
    "sdf['type'] = 'src'\n",
    "\n",
    "ddf['period'] = pd.to_datetime(ddf['period'], unit='ms')\n",
    "# because of the unresolved hosts, we have multiple entries for the same host and the same period, so it is neccessary to find the mean \n",
    "ddf = ddf.groupby(['host', 'period'], as_index=False).mean()\n",
    "ddf['type'] = 'dest'\n",
    "\n",
    "cdf = pd.concat([sdf, ddf], sort=True)\n",
    "\n",
    "# cdf.head()"
   ]
  },
  {
   "cell_type": "code",
   "execution_count": 8,
   "metadata": {},
   "outputs": [
    {
     "name": "stdout",
     "output_type": "stream",
     "text": [
      "Total unique:  204  Sources:  161  Destinations:  199\n",
      "Missing sources:  ['lhcone-newy-opt1.es.net' 'nanperfs02.in2p3.fr'\n",
      " 'perfsonar-fra-1.exoscale.ch' 'ps.ncp.edu.pk' 'psonar3.fnal.gov']\n",
      "Missing destinations:  ['111.68.106.222.pern.pk' 'grid251.kfki.hu' 'haleakala-tp.ps.uhnet.net'\n",
      " 'ifa-mko10g-tp.ps.uhnet.net' 'ifahilo-tp.ps.uhnet.net' 'iut2-net3.iu.edu'\n",
      " 'iut2-net5.iu.edu' 'lat-niagara.computecanada.ca' 'lcgperf.shef.ac.uk'\n",
      " 'maunalani-dl.ps.uhnet.net' 'maunaloa-ps.ps.uhnet.net'\n",
      " 'net-perf.rcs.le.ac.uk' 'osg.chic.nrp.internet2.edu'\n",
      " 'osg.kans.nrp.internet2.edu' 'osg.newy32aoa.nrp.internet2.edu'\n",
      " 'owamp-ps.singaren.net.sg' 'panstarrsitc-tp.ps.uhnet.net'\n",
      " 'perflat.ciemat.es' 'perfsonar-100g.cscs.ch'\n",
      " 'perfsonar-b5-data.soton.ac.uk' 'perfsonar-b5-mgt.soton.ac.uk'\n",
      " 'perfsonar-ext.soton.ac.uk' 'perfsonar.ornl.gov'\n",
      " 'perfsonar01.jc.rl.ac.uk' 'perfsonar2.recas.ba.infn.it'\n",
      " 'perfsonar2.roma1.infn.it' 'ps-hpc-management.net.uconn.edu'\n",
      " 'ps-slough-1g.ja.net' 'ps0002.m45.ihep.su' 'ps01.ncg.ingrid.pt'\n",
      " 'pscfhtsummit.cfht.hawaii.edu' 'pscfhtwaimea.cfht.hawaii.edu'\n",
      " 'psifca01.ifca.es' 'psific01.ific.uv.es'\n",
      " 'psmp-gn-owd-01-mil2-it-v4.geant.net' 'psmp-gn-owd-01.lon.uk.geant.net'\n",
      " 'psonar-cr3.rdf.ac.uk' 'psum02.itep.ru' 'quark.es.net'\n",
      " 'sampaps01.if.usp.br' 'sampaps02.if.usp.br' 'scidmz-tp.ps.uhnet.net'\n",
      " 'uhmanoa-tp.ps.uhnet.net']\n"
     ]
    }
   ],
   "source": [
    "print(\"Total unique: \",len(cdf['host'].unique()),  \" Sources: \", len(sdf['host'].unique()), \" Destinations: \", len(ddf['host'].unique()))\n",
    "print(\"Missing sources: \", sdf[sdf['host'].isin(ddf['host']) == False]['host'].unique())\n",
    "print(\"Missing destinations: \", ddf[ddf['host'].isin(sdf['host']) == False]['host'].unique())"
   ]
  },
  {
   "cell_type": "code",
   "execution_count": null,
   "metadata": {},
   "outputs": [],
   "source": []
  },
  {
   "cell_type": "code",
   "execution_count": null,
   "metadata": {},
   "outputs": [],
   "source": []
  },
  {
   "cell_type": "code",
   "execution_count": 9,
   "metadata": {},
   "outputs": [],
   "source": [
    "# Build the plots. One can conclude that if a host has a spike in averigeloss for both being a source site and a destination host, \n",
    "# then the problem was with that specific host\n",
    "from pandas.plotting import register_matplotlib_converters\n",
    "register_matplotlib_converters()\n",
    "\n",
    "g = sns.FacetGrid(cdf, row=\"host\", hue=\"type\",  sharex=False, \n",
    "              sharey=False, height=3, aspect=5)\n",
    "plt.figure(figsize=(10,5))\n",
    "g.map(plt.plot,  \"period\", \"avg_loss\", alpha=.7)\n",
    "g.add_legend();\n",
    "g.savefig(\"output.png\")"
   ]
  },
  {
   "cell_type": "code",
   "execution_count": null,
   "metadata": {},
   "outputs": [],
   "source": []
  },
  {
   "cell_type": "code",
   "execution_count": null,
   "metadata": {},
   "outputs": [],
   "source": []
  },
  {
   "cell_type": "code",
   "execution_count": 89,
   "metadata": {},
   "outputs": [],
   "source": [
    "# Build same plots but this time with matplolib subplots\n",
    "\n",
    "hosts = cdf['host'].unique()\n",
    "rows = round(len(hosts)/2)\n",
    "\n",
    "fig, axs = plt.subplots(rows, 2, figsize=(30, 240), sharex=False, sharey=False, )\n",
    "# fig, axs = plt.subplots(4, 2, figsize=(36, 24), sharex=False, sharey=False, )\n",
    "\n",
    "j=0\n",
    "l=0\n",
    "# for i, v in enumerate(hosts[:8]):\n",
    "for i, v in enumerate(hosts):\n",
    "#     print(l, j)\n",
    "    x = cdf[(cdf['host'] == v) & (cdf['type'] == 'src')]['period']\n",
    "    y = cdf[(cdf['host'] == v) & (cdf['type'] == 'src')]['avg_loss']\n",
    "    w = cdf[(cdf['host'] == v) & (cdf['type'] == 'dest')]['period']\n",
    "    z = cdf[(cdf['host'] == v) & (cdf['type'] == 'dest')]['avg_loss']\n",
    "    axs[l, j].plot(x, y)\n",
    "    axs[l, j].plot(w, z)\n",
    "    axs[l, j].set_title(v, fontsize=16)\n",
    "    axs[l, j].set_ylabel('Loss')\n",
    "    axs[l, j].set_xlabel('Period')\n",
    "    axs[l, j].legend(['src', 'dest'], loc='upper right')\n",
    "\n",
    "    if (j < 1):\n",
    "        j = j+1\n",
    "    else: \n",
    "        j=0\n",
    "        l = l+1\n",
    "\n",
    "\n",
    "fig.set_facecolor('w')\n",
    "fig.tight_layout()\n",
    "# fig.savefig(\"output.png\")"
   ]
  },
  {
   "cell_type": "code",
   "execution_count": null,
   "metadata": {},
   "outputs": [],
   "source": []
  },
  {
   "cell_type": "code",
   "execution_count": 81,
   "metadata": {},
   "outputs": [],
   "source": [
    "df1 = sdf.copy()\n",
    "df2 = ddf.copy()\n",
    "df1['period'] = pd.to_datetime(df1['period'], unit='ms')\n",
    "df2['period'] = pd.to_datetime(df2['period'], unit='ms')"
   ]
  },
  {
   "cell_type": "code",
   "execution_count": 88,
   "metadata": {},
   "outputs": [],
   "source": [
    "mdf = pd.merge(df1, df2, on=['host', 'period'])\n",
    "# calculate the mean for all hosts\n",
    "mdf['mean'] = mdf[['avg_loss_x', 'avg_loss_y']].mean(axis=1)"
   ]
  },
  {
   "cell_type": "code",
   "execution_count": 85,
   "metadata": {},
   "outputs": [],
   "source": []
  },
  {
   "cell_type": "code",
   "execution_count": 86,
   "metadata": {},
   "outputs": [
    {
     "data": {
      "text/plain": [
       "'temp-plot.html'"
      ]
     },
     "execution_count": 86,
     "metadata": {},
     "output_type": "execute_result"
    }
   ],
   "source": [
    "# Build interactive buble chart to see the trend as well the hosts with the most loss\n",
    "fig = px.scatter(mdf, x=\"period\", y=\"host\",\n",
    "                  size=mdf[\"mean\"].fillna(value=0), color=\"host\",\n",
    "                 hover_name=\"host\"\n",
    "                )\n",
    "\n",
    "\n",
    "\n",
    "fig.update_layout(\n",
    "    title='Avg Packet Loss from 01-12-2019 to 22-01-2020',\n",
    "    xaxis={\n",
    "        'title':'Period'},\n",
    "    yaxis={'title':'Hosts'},\n",
    "    paper_bgcolor='rgba(0,0,0,0)',\n",
    "    plot_bgcolor='rgba(0,0,0,0)')\n",
    "\n",
    "py.offline.plot(fig)"
   ]
  },
  {
   "cell_type": "code",
   "execution_count": null,
   "metadata": {},
   "outputs": [],
   "source": []
  }
 ],
 "metadata": {
  "kernelspec": {
   "display_name": "Python 3",
   "language": "python",
   "name": "python3"
  },
  "language_info": {
   "codemirror_mode": {
    "name": "ipython",
    "version": 3
   },
   "file_extension": ".py",
   "mimetype": "text/x-python",
   "name": "python",
   "nbconvert_exporter": "python",
   "pygments_lexer": "ipython3",
   "version": "3.5.2"
  }
 },
 "nbformat": 4,
 "nbformat_minor": 4
}
