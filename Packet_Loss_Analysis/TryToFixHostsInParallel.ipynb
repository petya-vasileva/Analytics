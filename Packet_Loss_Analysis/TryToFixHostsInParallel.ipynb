{
 "cells": [
  {
   "cell_type": "markdown",
   "metadata": {},
   "source": [
    "### The following implementation of parallel fixing of hosts works only on small amount of data (2-3 million documents)"
   ]
  },
  {
   "cell_type": "code",
   "execution_count": 1,
   "metadata": {},
   "outputs": [],
   "source": [
    "import helpers as hp\n",
    "from elasticsearch.helpers import scan\n",
    "es = hp.ConnectES()"
   ]
  },
  {
   "cell_type": "markdown",
   "metadata": {},
   "source": [
    "Date and time (GMT): Tuesday, January 28, 2020 17:19:25 to 13:19:25 "
   ]
  },
  {
   "cell_type": "code",
   "execution_count": 2,
   "metadata": {},
   "outputs": [
    {
     "name": "stdout",
     "output_type": "stream",
     "text": [
      "0\n"
     ]
    }
   ],
   "source": [
    "query = {\n",
    "  \"size\": 0,\n",
    "  \"query\": {\n",
    "    \"bool\":{\n",
    "      \"must\":[\n",
    "        {\n",
    "          \"range\": {\n",
    "            \"timestamp\": {\n",
    "              \"gte\": \"1580217565000\",\n",
    "              \"lt\": \"1580231965000\" \n",
    "            }\n",
    "          }\n",
    "        }\n",
    "      ]\n",
    "    }\n",
    "  }\n",
    "}\n",
    "\n",
    "    \n",
    "results = scan(es, index=\"ps_packetloss\", query=query)\n",
    "\n",
    "res = []\n",
    "unknown = []\n",
    "i = 0\n",
    "for d in results:\n",
    "    temp = {}\n",
    "    res.append(d['_source'])\n",
    "    if i % 100000 == 0:\n",
    "        print(i)\n",
    "    if i == 50000:\n",
    "        break\n",
    "    i = i + 1\n",
    "\n",
    "data = res.copy()"
   ]
  },
  {
   "cell_type": "code",
   "execution_count": 3,
   "metadata": {},
   "outputs": [
    {
     "name": "stdout",
     "output_type": "stream",
     "text": [
      "Start: 17:30:54\n",
      "0\n",
      "Time elapsed = 66s\n",
      "Number of unique hosts: 194\n"
     ]
    }
   ],
   "source": [
    "hp.ProcessHosts(data)"
   ]
  }
 ],
 "metadata": {
  "kernelspec": {
   "display_name": "Python 3",
   "language": "python",
   "name": "python3"
  },
  "language_info": {
   "codemirror_mode": {
    "name": "ipython",
    "version": 3
   },
   "file_extension": ".py",
   "mimetype": "text/x-python",
   "name": "python",
   "nbconvert_exporter": "python",
   "pygments_lexer": "ipython3",
   "version": "3.5.2"
  }
 },
 "nbformat": 4,
 "nbformat_minor": 4
}
