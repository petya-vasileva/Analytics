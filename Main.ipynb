{
 "cells": [
  {
   "cell_type": "markdown",
   "metadata": {},
   "source": [
    "# *Analytics on Trace Data*\n",
    "\n",
    "In this notebook we're tying to understand the Trace data, such as basic statistics and stuff. The aim of this notebook in the end is to _collapse the equal-cost multipaths_ or something sround that to reduce the complexity of the data. We here in this notebook look at distributions of data to understand the generalnature of trace data. \n",
    "\n",
    "We'll be pulling data from Kibana using the ElasticSearch Python API and plotting some data for easier understanding, we only use the data in production not the test data.\n"
   ]
  },
  {
   "cell_type": "code",
   "execution_count": 85,
   "metadata": {},
   "outputs": [],
   "source": [
    "from elasticsearch import Elasticsearch\n",
    "from elasticsearch.helpers import scan\n",
    "from time import time, strftime, localtime\n",
    "from datetime import datetime, timedelta\n",
    "import numpy as np\n",
    "import pandas as pd\n",
    "import json\n",
    "\n",
    "import matplotlib.pyplot as plt"
   ]
  },
  {
   "cell_type": "markdown",
   "metadata": {},
   "source": [
    "#### *Custom Modules*\n",
    "We use three custom modules which assist us. \n",
    "\n",
    "The first module contains various types of queries callable as functions, the second module is a utility module for plotting, getting correct date formats etc.. and the thied module helps us move hops data from Kibana to Neo4j for a source-destination pair.\n",
    "\n",
    "\n",
    "(The auto-reload extension, always reloads the modules without having the need to restart the IPython Kernel. Helps a lot in development of custom modules like these.)"
   ]
  },
  {
   "cell_type": "code",
   "execution_count": 86,
   "metadata": {},
   "outputs": [
    {
     "name": "stdout",
     "output_type": "stream",
     "text": [
      "The autoreload extension is already loaded. To reload it, use:\n",
      "  %reload_ext autoreload\n"
     ]
    }
   ],
   "source": [
    "%load_ext autoreload\n",
    "%autoreload 2\n",
    "\n",
    "import Utility_Modules.r_utils as ut\n",
    "import Utility_Modules.elasticqueries as qrs\n",
    "import Utility_Modules.kibana_to_neo_pipe as pipe"
   ]
  },
  {
   "cell_type": "markdown",
   "metadata": {},
   "source": [
    "### *Conecting to ElasticSearch*\n",
    "This connection object work throughout the notebook to retreive data from the ElasticSearch Kibana Instance\n",
    "\n",
    "Enter your user and passwd fields to connect to the database. Change from None to String type"
   ]
  },
  {
   "cell_type": "code",
   "execution_count": 87,
   "metadata": {},
   "outputs": [
    {
     "name": "stdout",
     "output_type": "stream",
     "text": [
      "Connection Successful\n"
     ]
    }
   ],
   "source": [
    "user = None\n",
    "passwd = None\n",
    "if user is None and passwd is None:\n",
    "    with open(\"creds.key\") as f:\n",
    "        user = f.readline().strip()\n",
    "        passwd = f.readline().strip()\n",
    "credentials = (user, passwd)\n",
    "es = Elasticsearch(['atlas-kibana.mwt2.org:9200'], timeout=90, http_auth=credentials)\n",
    "\n",
    "print(\"Connection Successful\") if es.ping() == True else print(\"Connection Unsuccessful\")"
   ]
  },
  {
   "cell_type": "markdown",
   "metadata": {},
   "source": [
    "------\n",
    "### *Distinct Counts*\n",
    "\n",
    "In the next cell we inspect the **count of distinct values** (Fields Specified Below) in the ps trace data in the last 90 day time frame to get some insights on the data.\n",
    "\n",
    "\n",
    "* dest_host\n",
    "* src_host\n",
    "* dest\n",
    "* src\n",
    "* dest_site\n",
    "* src_site\n",
    "\n",
    "**\\***\n",
    "There is an aditional function present here *__getUniqueCountBy()__* which returns a list of the unique values and not just the length. Although, it prints out the size of the array when executing. It takes in the same argument as the function below.\n"
   ]
  },
  {
   "cell_type": "code",
   "execution_count": 5,
   "metadata": {},
   "outputs": [
    {
     "name": "stdout",
     "output_type": "stream",
     "text": [
      "dest_host :  268\n",
      "dest      :  347\n",
      "src_host  :  206\n",
      "src       :  260\n",
      "src_site  :  104\n",
      "dest_site :  121\n"
     ]
    }
   ],
   "source": [
    "countOf = ['dest_host', 'dest', 'src_host', 'src','src_site', 'dest_site']\n",
    "for i in countOf:\n",
    "    print(\"{:9s} : {:4d}\".format(i, qrs.getUniqueCount(es,'ps_trace',i, ut.getDateFormat(delta=91), ut.getDateFormat())))"
   ]
  },
  {
   "cell_type": "markdown",
   "metadata": {},
   "source": [
    "### *Looking at the Numbers Above*\n",
    "\n",
    "**Q :** Why is the number of ip's per site more than 1 (we see upto 7 here)\n",
    "\n",
    "**A :** \"Site\" is typically equivalent to a WLCG Tier-2.  Some of our Tier-2s actually are composed of more than one institution.  Each distinct network location (different subnet for example) should have two different perfSONAR toolkits installed; one for latency measurement and one for bandwidth measurement.   A typical \"site\" at only one institution, should have 2 different IPs; one for latency and one for bandwidth.  A site can have multiple networks to monitor and can therefore have multiple associated IPs\n",
    "\n",
    "**Q :** Why are there 2 or more ips per hostname\n",
    "\n",
    "**A :** Some perfSONAR instances have both IPv4 and IPv6 addresses.  This is called being dual-stacked.   That is ONE way to have multiple IP addresses for a specific perfSONAR toolkit instance.   It is also possible to add more IP addresses (which may end up testing different data paths through the network).  Each interface could have additional IP addresses added, either IPv4 or IPv6.  Usually additional IPv4/IPv6 addresses (beyond the first) would be added into specific different VLANs.\n",
    "\n",
    "\n",
    "**Q :** Why are there more dest_hosts than src_hosts\n",
    "\n",
    "**A :**\n",
    "\n",
    "**\\*** Thanks **Shawn McKee** for helping answer these questions."
   ]
  },
  {
   "cell_type": "markdown",
   "metadata": {},
   "source": [
    "-----\n",
    "**Frequency Distribution of Source and Destination Hosts **"
   ]
  },
  {
   "cell_type": "code",
   "execution_count": 6,
   "metadata": {},
   "outputs": [
    {
     "name": "stdout",
     "output_type": "stream",
     "text": [
      "Size : 206\n",
      "Size : 268\n"
     ]
    }
   ],
   "source": [
    "src_data = qrs.getUniqueCountBy(es,'ps_trace','src_host',ut.getDateFormat(delta=91), ut.getDateFormat())\n",
    "dest_data = qrs.getUniqueCountBy(es,'ps_trace','dest_host',ut.getDateFormat(delta=91), ut.getDateFormat())"
   ]
  },
  {
   "cell_type": "code",
   "execution_count": 7,
   "metadata": {},
   "outputs": [
    {
     "data": {
      "image/png": "[encoded data removed]",
      "text/plain": [
       "<Figure size 1024x576 with 1 Axes>"
      ]
     },
     "metadata": {
      "needs_background": "light"
     },
     "output_type": "display_data"
    }
   ],
   "source": [
    "ut.plotByHist(src_data,\"Source Hosts\",plt)"
   ]
  },
  {
   "cell_type": "code",
   "execution_count": 9,
   "metadata": {},
   "outputs": [
    {
     "data": {
      "image/png": "[encoded data removed]",
      "text/plain": [
       "<Figure size 1024x576 with 1 Axes>"
      ]
     },
     "metadata": {
      "needs_background": "light"
     },
     "output_type": "display_data"
    }
   ],
   "source": [
    "ut.plotByHist(dest_data, 'Destination Hosts', plt)"
   ]
  },
  {
   "cell_type": "markdown",
   "metadata": {},
   "source": [
    "### *Conclusion*\n",
    "This helps us see that all the sources do not talk all the destinations and some talk to more than the others. The reason behind this is the mesh architecture. All the hosts present in the mesh talk to every other host in the mest but not outside the mesh. And some nodes are associated with more meshes than others."
   ]
  },
  {
   "cell_type": "markdown",
   "metadata": {},
   "source": [
    "-----\n",
    "### *Frequency Distribution of Paths between all pair of nodes (in the past three months from today)*\n",
    "\n",
    "We use the results captured another script here for this usecase, which is also placed in the Utility_Modules folder.\n",
    "That script provides us with two values of our interest, total path between a source and destination and number of paths whihc were take more than once. We did this to reduce the complexity in our data and maybe look it as an alternative to removing equal cost multipaths. "
   ]
  },
  {
   "cell_type": "code",
   "execution_count": 3,
   "metadata": {},
   "outputs": [
    {
     "data": {
      "text/html": [
       "<div>\n",
       "<style scoped>\n",
       "    .dataframe tbody tr th:only-of-type {\n",
       "        vertical-align: middle;\n",
       "    }\n",
       "\n",
       "    .dataframe tbody tr th {\n",
       "        vertical-align: top;\n",
       "    }\n",
       "\n",
       "    .dataframe thead th {\n",
       "        text-align: right;\n",
       "    }\n",
       "</style>\n",
       "<table border=\"1\" class=\"dataframe\">\n",
       "  <thead>\n",
       "    <tr style=\"text-align: right;\">\n",
       "      <th></th>\n",
       "      <th>Source</th>\n",
       "      <th>Destinations</th>\n",
       "      <th>Total</th>\n",
       "      <th>MoreThanOne</th>\n",
       "      <th>Processed</th>\n",
       "      <th>Once</th>\n",
       "    </tr>\n",
       "  </thead>\n",
       "  <tbody>\n",
       "    <tr>\n",
       "      <th>0</th>\n",
       "      <td>202.140.191.90</td>\n",
       "      <td>206.12.9.1</td>\n",
       "      <td>45.0</td>\n",
       "      <td>26.0</td>\n",
       "      <td>1.0</td>\n",
       "      <td>19.0</td>\n",
       "    </tr>\n",
       "    <tr>\n",
       "      <th>1</th>\n",
       "      <td>202.140.191.90</td>\n",
       "      <td>109.105.124.88</td>\n",
       "      <td>30.0</td>\n",
       "      <td>19.0</td>\n",
       "      <td>1.0</td>\n",
       "      <td>11.0</td>\n",
       "    </tr>\n",
       "    <tr>\n",
       "      <th>2</th>\n",
       "      <td>202.140.191.90</td>\n",
       "      <td>131.154.254.11</td>\n",
       "      <td>47.0</td>\n",
       "      <td>21.0</td>\n",
       "      <td>1.0</td>\n",
       "      <td>26.0</td>\n",
       "    </tr>\n",
       "    <tr>\n",
       "      <th>3</th>\n",
       "      <td>202.140.191.90</td>\n",
       "      <td>193.109.172.187</td>\n",
       "      <td>28.0</td>\n",
       "      <td>19.0</td>\n",
       "      <td>1.0</td>\n",
       "      <td>9.0</td>\n",
       "    </tr>\n",
       "    <tr>\n",
       "      <th>4</th>\n",
       "      <td>202.140.191.90</td>\n",
       "      <td>193.48.99.77</td>\n",
       "      <td>27.0</td>\n",
       "      <td>13.0</td>\n",
       "      <td>1.0</td>\n",
       "      <td>14.0</td>\n",
       "    </tr>\n",
       "  </tbody>\n",
       "</table>\n",
       "</div>"
      ],
      "text/plain": [
       "           Source     Destinations  Total  MoreThanOne  Processed  Once\n",
       "0  202.140.191.90       206.12.9.1   45.0         26.0        1.0  19.0\n",
       "1  202.140.191.90   109.105.124.88   30.0         19.0        1.0  11.0\n",
       "2  202.140.191.90   131.154.254.11   47.0         21.0        1.0  26.0\n",
       "3  202.140.191.90  193.109.172.187   28.0         19.0        1.0   9.0\n",
       "4  202.140.191.90     193.48.99.77   27.0         13.0        1.0  14.0"
      ]
     },
     "execution_count": 3,
     "metadata": {},
     "output_type": "execute_result"
    }
   ],
   "source": [
    "src_dest_path_df = pd.read_csv(\"Results/SourceDestinationPairs.csv\")\n",
    "src_dest_path_df.head()"
   ]
  },
  {
   "cell_type": "markdown",
   "metadata": {},
   "source": [
    "#### Distribution of All the Paths"
   ]
  },
  {
   "cell_type": "code",
   "execution_count": 4,
   "metadata": {},
   "outputs": [
    {
     "data": {
      "image/png": "[encoded data removed]",
      "text/plain": [
       "<Figure size 768x512 with 1 Axes>"
      ]
     },
     "metadata": {
      "needs_background": "light"
     },
     "output_type": "display_data"
    }
   ],
   "source": [
    "mean_total = src_dest_path_df['Total'].mean()\n",
    "stddev_total = src_dest_path_df['Total'].std()\n",
    "legend_data = \"Mean     : {:3.3f}\\nStd. Dev: {:3.3f}\"\n",
    "plt.figure(dpi=128)\n",
    "src_dest_path_df['Total'].hist(bins=100)\n",
    "plt.title('Distribution of All Paths')\n",
    "plt.xlabel(\"Total Number of Paths\")\n",
    "plt.ylabel(\"Number of Pairs\")\n",
    "plt.yscale(\"log\")\n",
    "props = dict(facecolor='xkcd:green', alpha=0.25)\n",
    "plt.text(6500, 1400, s=legend_data.format(mean_total, stddev_total), bbox=props);"
   ]
  },
  {
   "cell_type": "markdown",
   "metadata": {},
   "source": [
    "#### Distribution of Paths taken **more than once**"
   ]
  },
  {
   "cell_type": "code",
   "execution_count": 5,
   "metadata": {},
   "outputs": [
    {
     "data": {
      "image/png": "[encoded data removed]",
      "text/plain": [
       "<Figure size 768x512 with 1 Axes>"
      ]
     },
     "metadata": {
      "needs_background": "light"
     },
     "output_type": "display_data"
    }
   ],
   "source": [
    "mean = src_dest_path_df['MoreThanOne'].mean()\n",
    "stddev = src_dest_path_df['MoreThanOne'].std()\n",
    "legend_data = \"Mean     : {:3.3f}\\nStd. Dev: {:3.3f}\"\n",
    "\n",
    "plt.figure(dpi=128)\n",
    "src_dest_path_df['MoreThanOne'].hist(bins=100)\n",
    "plt.title('Distribution of Paths taken More than Once')\n",
    "plt.xlabel(\"Number of Paths\")\n",
    "plt.ylabel(\"Number of Pairs\")\n",
    "plt.yscale(\"log\")\n",
    "props = dict(facecolor='xkcd:green', alpha=0.25)\n",
    "plt.text(2500, 1400, s=legend_data.format(mean, stddev), bbox=props);"
   ]
  },
  {
   "cell_type": "markdown",
   "metadata": {},
   "source": [
    "### *Conclusion*\n",
    "\n",
    "As we can see here in the distribution of *all* the paths taken, there are quite a few pairs with paths more than 1500. But if we only look at paths which were taken more than once, we see that there are only 3 pairs (most likely outliers) which have more than 1500 paths. This seems like a very interesting finding and can help us in moving forward."
   ]
  },
  {
   "cell_type": "markdown",
   "metadata": {},
   "source": [
    "### *Using Neo4j to further investigate the finding above*\n",
    "\n",
    "We will now ingest data into a locally hosted Neo4j server, which is a graph database. It also has a nice interface to see the actual graph, which we are most interested in.\n",
    "To help us with Neo4j we'll use the custom module to move data about the trace hops between a source and destination pair. Which we will randomly sample from all the available pairs."
   ]
  },
  {
   "cell_type": "code",
   "execution_count": 10,
   "metadata": {},
   "outputs": [
    {
     "data": {
      "text/plain": [
       "('131.154.254.11', '193.109.172.187')"
      ]
     },
     "execution_count": 10,
     "metadata": {},
     "output_type": "execute_result"
    }
   ],
   "source": [
    "row = src_dest_path_df.sample(1, random_state=71717)\n",
    "src = row.iloc[0,0]\n",
    "dest = row.iloc[0,1]\n",
    "src, dest"
   ]
  },
  {
   "cell_type": "code",
   "execution_count": 11,
   "metadata": {},
   "outputs": [],
   "source": [
    "kibana_usr = None \n",
    "kibana_pwd = None\n",
    "neo_usr = None\n",
    "neo_pwd = None\n",
    "\n",
    "with open(\"creds.key\") as f:\n",
    "    kibana_usr = f.readline().strip()\n",
    "    kibana_pwd = f.readline().strip()\n",
    "    neo_usr = f.readline().strip()\n",
    "    neo_pwd = f.readline().strip()"
   ]
  },
  {
   "cell_type": "markdown",
   "metadata": {},
   "source": [
    "Connecting to Kibana and Neo4j using Pipeline."
   ]
  },
  {
   "cell_type": "code",
   "execution_count": 18,
   "metadata": {},
   "outputs": [],
   "source": [
    "kibana_connect = pipe.KibanaExtractor('atlas-kibana.mwt2.org:9200', kibana_usr, kibana_pwd)\n",
    "neo_connect = pipe.NeoInjector('bolt://localhost:7687', neo_usr, neo_pwd)"
   ]
  },
  {
   "cell_type": "markdown",
   "metadata": {},
   "source": [
    "#### Now we prepare data for transfer to Neo4j\n",
    "\n",
    "* Getting data for the given Source and Destination.\n",
    "* Getting unique nodes\n",
    "* Getting Paths and turning them into pairs (A -> B)\n"
   ]
  },
  {
   "cell_type": "code",
   "execution_count": 19,
   "metadata": {},
   "outputs": [
    {
     "name": "stdout",
     "output_type": "stream",
     "text": [
      "Path Example:  ['SOURCE : 131.154.254.11', '131.154.254.1', '193.206.128.169', '192.16.166.154', '192.16.166.153', '192.16.166.58', '193.109.172.187', 'DESTINATION : 193.109.172.187']\n",
      "Relation Example:  ('131.154.254.1', '193.206.128.169') this means that data flows from IP.1 to IP.2\n"
     ]
    }
   ],
   "source": [
    "kibana_connect.getdata(src, dest)\n",
    "uniq_nodes = kibana_connect.getuniquenodes()\n",
    "uniq_paths = kibana_connect.get_paths()\n",
    "\n",
    "relations = []\n",
    "for path in uniq_paths:\n",
    "    for i in range(len(path)-1):\n",
    "        if path[i] == path[i+1]:\n",
    "            print(path)\n",
    "        relations.append((path[i], path[i+1]))\n",
    "        \n",
    "print(\"Path Example: \", uniq_paths[0])\n",
    "print(\"Relation Example: \", relations[1], \"this means that data flows from IP.1 to IP.2\")"
   ]
  },
  {
   "cell_type": "markdown",
   "metadata": {},
   "source": [
    "#### Clearing Neo4j for previous node instances"
   ]
  },
  {
   "cell_type": "code",
   "execution_count": 20,
   "metadata": {},
   "outputs": [],
   "source": [
    "neo_connect.delete_all()"
   ]
  },
  {
   "cell_type": "markdown",
   "metadata": {},
   "source": [
    "#### Sending Nodes and Relations to Neo4j"
   ]
  },
  {
   "cell_type": "code",
   "execution_count": 21,
   "metadata": {},
   "outputs": [],
   "source": [
    "neo_connect.send_nodes_to_neo(uniq_nodes)\n",
    "neo_connect.send_relations_to_neo(relations)"
   ]
  },
  {
   "cell_type": "markdown",
   "metadata": {},
   "source": [
    "### Now For Paths taken more than once only\n",
    "\n",
    "We only have to pass a parameter to the get_paths functon which gets paths taken more than ***k*** number of times"
   ]
  },
  {
   "cell_type": "code",
   "execution_count": 25,
   "metadata": {},
   "outputs": [
    {
     "name": "stdout",
     "output_type": "stream",
     "text": [
      "Path Example:  ['SOURCE : 131.154.254.11', '131.154.254.1', '193.206.128.169', '192.16.166.154', '192.16.166.153', '192.16.166.58', '193.109.172.187', 'DESTINATION : 193.109.172.187']\n",
      "Relation Example:  ('131.154.254.1', '193.206.128.169') this means that data flows from IP.1 to IP.2\n"
     ]
    }
   ],
   "source": [
    "uniq_paths = kibana_connect.get_paths(k=1)\n",
    "uniq_nodes = kibana_connect.getuniquenodes()\n",
    "\n",
    "relations = []\n",
    "for path in uniq_paths:\n",
    "    for i in range(len(path)-1):\n",
    "        if path[i] == path[i+1]:\n",
    "            print(path)\n",
    "        relations.append((path[i], path[i+1]))\n",
    "        \n",
    "print(\"Path Example: \", uniq_paths[0])\n",
    "print(\"Relation Example: \", relations[1], \"this means that data flows from IP.1 to IP.2\")"
   ]
  },
  {
   "cell_type": "markdown",
   "metadata": {},
   "source": [
    "#### Clearing Old Data and Adding New Data"
   ]
  },
  {
   "cell_type": "code",
   "execution_count": 26,
   "metadata": {},
   "outputs": [],
   "source": [
    "neo_connect.delete_all()\n",
    "neo_connect.send_nodes_to_neo(uniq_nodes)\n",
    "neo_connect.send_relations_to_neo(relations)"
   ]
  },
  {
   "cell_type": "markdown",
   "metadata": {},
   "source": [
    "#### Closing the Neo4j Connection"
   ]
  },
  {
   "cell_type": "code",
   "execution_count": 136,
   "metadata": {},
   "outputs": [],
   "source": [
    "neo_connect.close()"
   ]
  },
  {
   "cell_type": "markdown",
   "metadata": {},
   "source": [
    "### Conclusion\n",
    "\n",
    "* *Graph with All Paths Between the above choosen Source and Destination*\n",
    "\n",
    "![](source_dest_all.png)\n",
    "\n",
    "* *Graph with Paths taen more than once Between the above choosen Source and Destination*\n",
    "\n",
    "![](src_dest_one.png)"
   ]
  },
  {
   "cell_type": "code",
   "execution_count": null,
   "metadata": {},
   "outputs": [],
   "source": []
  },
  {
   "cell_type": "markdown",
   "metadata": {},
   "source": [
    "### Tagging Paths as Stable and Unstable\n",
    "\n",
    "We consider a paths which happen frequently by time i.e. frequency. So that we remove the hard-threshold of what we did above. And this probably will clean up our data much more because we would even drop paths which are infrequent (or even anomalous) without setting a hard threshold."
   ]
  },
  {
   "cell_type": "code",
   "execution_count": 88,
   "metadata": {},
   "outputs": [
    {
     "data": {
      "text/html": [
       "<div>\n",
       "<style scoped>\n",
       "    .dataframe tbody tr th:only-of-type {\n",
       "        vertical-align: middle;\n",
       "    }\n",
       "\n",
       "    .dataframe tbody tr th {\n",
       "        vertical-align: top;\n",
       "    }\n",
       "\n",
       "    .dataframe thead th {\n",
       "        text-align: right;\n",
       "    }\n",
       "</style>\n",
       "<table border=\"1\" class=\"dataframe\">\n",
       "  <thead>\n",
       "    <tr style=\"text-align: right;\">\n",
       "      <th></th>\n",
       "      <th>Source</th>\n",
       "      <th>Destinations</th>\n",
       "    </tr>\n",
       "  </thead>\n",
       "  <tbody>\n",
       "    <tr>\n",
       "      <th>0</th>\n",
       "      <td>202.140.191.90</td>\n",
       "      <td>206.12.9.1</td>\n",
       "    </tr>\n",
       "    <tr>\n",
       "      <th>1</th>\n",
       "      <td>202.140.191.90</td>\n",
       "      <td>109.105.124.88</td>\n",
       "    </tr>\n",
       "    <tr>\n",
       "      <th>2</th>\n",
       "      <td>202.140.191.90</td>\n",
       "      <td>131.154.254.11</td>\n",
       "    </tr>\n",
       "    <tr>\n",
       "      <th>3</th>\n",
       "      <td>202.140.191.90</td>\n",
       "      <td>193.109.172.187</td>\n",
       "    </tr>\n",
       "    <tr>\n",
       "      <th>4</th>\n",
       "      <td>202.140.191.90</td>\n",
       "      <td>193.48.99.77</td>\n",
       "    </tr>\n",
       "  </tbody>\n",
       "</table>\n",
       "</div>"
      ],
      "text/plain": [
       "           Source     Destinations\n",
       "0  202.140.191.90       206.12.9.1\n",
       "1  202.140.191.90   109.105.124.88\n",
       "2  202.140.191.90   131.154.254.11\n",
       "3  202.140.191.90  193.109.172.187\n",
       "4  202.140.191.90     193.48.99.77"
      ]
     },
     "execution_count": 88,
     "metadata": {},
     "output_type": "execute_result"
    }
   ],
   "source": [
    "to_time = ut.getDateFormat()\n",
    "from_time = ut.getDateFormat(delta=90)\n",
    "pairs = qrs.getSourceDestinationPairs(es, to_date = to_time, from_date = from_time)\n",
    "pairs = pd.DataFrame(pairs)\n",
    "pairs.head()"
   ]
  },
  {
   "cell_type": "code",
   "execution_count": 156,
   "metadata": {},
   "outputs": [],
   "source": [
    "def getPathReadTime(es, path, time_to, time_from, size):\n",
    "    \"\"\"\n",
    "    Gets the timestamps for the hash provided in the given time range\n",
    "    \n",
    "    Args:\n",
    "        es: Elastic Search Object\n",
    "        path: Hashed value of the path\n",
    "        time_to: Time range start in epoch millisecond\n",
    "        time_from: Time range end in epoch millisecond\n",
    "        size: Number of readings for the path\n",
    "    Returns:\n",
    "        A list of time-stamps (epoch_millis) on which the path was recorded \n",
    "    \"\"\"\n",
    "    \n",
    "    query = {\n",
    "        \"_source\":['timestamp'],\n",
    "        \"size\":size,\n",
    "        \"query\":{\n",
    "            \"bool\":{\n",
    "                \"must\":[\n",
    "                    {\n",
    "                        \"range\":{\n",
    "                            \"timestamp\":{\n",
    "                                \"gte\":time_from,\n",
    "                                \"lte\":time_to,\n",
    "                                \"format\":\"epoch_millis\"\n",
    "                            }\n",
    "                        }\n",
    "                    },\n",
    "                    {\n",
    "                        \"term\":{\n",
    "                            \"src_production\":{\n",
    "                                \"value\":\"true\"\n",
    "                            }\n",
    "                        }\n",
    "                    },\n",
    "                    {\n",
    "                        \"term\":{\n",
    "                            \"dest_production\":{\n",
    "                                \"value\":\"true\"\n",
    "                            }\n",
    "                        }\n",
    "                    },\n",
    "                    {\n",
    "                        \"term\":{\n",
    "                            \"hash\":{\n",
    "                                \"value\":path\n",
    "                            }\n",
    "                        }\n",
    "                    }\n",
    "                ]\n",
    "            }\n",
    "        }\n",
    "    }\n",
    "    \n",
    "    data = es.search('ps_trace', body=query,filter_path=['hits.hits._source.timestamp'])\n",
    "    results = []\n",
    "    \n",
    "    for hit in data['hits']['hits']:\n",
    "        results.append(hit['_source']['timestamp'])\n",
    "    \n",
    "    return results\n",
    "    \n",
    "    "
   ]
  },
  {
   "cell_type": "code",
   "execution_count": 157,
   "metadata": {},
   "outputs": [],
   "source": [
    "def isStable(time_stamps, threshold):\n",
    "    time_stamps.sort()\n",
    "    for i in range(len(time_stamps)-threshold):\n",
    "        tmp = datetime.fromtimestamp(time_stamps[i+threshold]/1000) - datetime.fromtimestamp(time_stamps[i]/1000) \n",
    "        mins, secs = divmod(tmp.days * 24 * 60 * 60 + (tmp.seconds) , 60)\n",
    "        if mins <= 60:\n",
    "            return 1\n",
    "    \n",
    "    return 0"
   ]
  },
  {
   "cell_type": "code",
   "execution_count": 162,
   "metadata": {},
   "outputs": [
    {
     "name": "stdout",
     "output_type": "stream",
     "text": [
      "[{'key': 2587588825500388680, 'doc_count': 6775}, {'key': 189781397184636240, 'doc_count': 5738}, {'key': -74129698264447653, 'doc_count': 4691}, {'key': -6077366562090215954, 'doc_count': 3082}, {'key': -5878814858121653021, 'doc_count': 1549}, {'key': -8722033512449559859, 'doc_count': 834}, {'key': -2247184385311529677, 'doc_count': 705}, {'key': -6235458303257566201, 'doc_count': 588}, {'key': -6934984173902907058, 'doc_count': 169}, {'key': 6054513168416809489, 'doc_count': 147}, {'key': -7777181488225799686, 'doc_count': 30}, {'key': -641512608332176102, 'doc_count': 23}, {'key': 8585257720656886928, 'doc_count': 18}, {'key': -4006689563783824034, 'doc_count': 11}, {'key': -6960933699149920142, 'doc_count': 9}, {'key': -1675214933240226744, 'doc_count': 9}, {'key': 3566030040050078944, 'doc_count': 9}, {'key': -7601851972095713033, 'doc_count': 8}, {'key': 919758331757846196, 'doc_count': 4}, {'key': -7479954488676789481, 'doc_count': 3}, {'key': -5111942071352991968, 'doc_count': 3}, {'key': -1179038864770940357, 'doc_count': 3}, {'key': 3793224896505453388, 'doc_count': 3}, {'key': -8285789712896875863, 'doc_count': 2}, {'key': -3151786242597289166, 'doc_count': 2}, {'key': -8222154363700740906, 'doc_count': 1}, {'key': -7280304153211951892, 'doc_count': 1}, {'key': -6316253289001720012, 'doc_count': 1}, {'key': -5601923042163402583, 'doc_count': 1}, {'key': -4097276179843863864, 'doc_count': 1}, {'key': -3974292741530883249, 'doc_count': 1}, {'key': -3611971398933319034, 'doc_count': 1}, {'key': -3298896997717449361, 'doc_count': 1}, {'key': -2391636821540138939, 'doc_count': 1}, {'key': -1298077450339893117, 'doc_count': 1}, {'key': 850252791025507856, 'doc_count': 1}, {'key': 3308139553633418447, 'doc_count': 1}, {'key': 3363162798428118293, 'doc_count': 1}, {'key': 3752961515919193949, 'doc_count': 1}, {'key': 4740803279378359546, 'doc_count': 1}, {'key': 6947045349994854962, 'doc_count': 1}]\n"
     ]
    }
   ],
   "source": [
    "def markStable(pairs, threshold):   \n",
    "    paths_stability = []\n",
    "    \n",
    "    for indx, row in pairs.iterrows():\n",
    "        temp_res = {\n",
    "            \"source\":row[0],\n",
    "            \"destination\":row[1],\n",
    "            \"paths\":{}\n",
    "        }\n",
    "        paths = qrs.getPathCounts(es, row[0], row[1], from_time, to_time)\n",
    "        for i, path in enumerate(paths):\n",
    "            p = path['key']\n",
    "            size = path['doc_count']\n",
    "            temp_res['paths'][p] = isStable(getPathReadTime(es, p, to_time, from_time, size), threshold)\n",
    "        paths_stability.append(temp_res)\n",
    "        print(paths)\n",
    "        break\n",
    "    \n",
    "    return paths_stability\n",
    "\n",
    "THRESHOLD = 5\n",
    "path_stability = markStable(pairs, THRESHOLD)"
   ]
  },
  {
   "cell_type": "code",
   "execution_count": 163,
   "metadata": {},
   "outputs": [
    {
     "data": {
      "text/plain": [
       "[{'source': '202.140.191.90',\n",
       "  'destination': '206.12.9.1',\n",
       "  'paths': {2587588825500388680: 1,\n",
       "   189781397184636240: 1,\n",
       "   -74129698264447653: 1,\n",
       "   -6077366562090215954: 1,\n",
       "   -5878814858121653021: 1,\n",
       "   -8722033512449559859: 1,\n",
       "   -2247184385311529677: 1,\n",
       "   -6235458303257566201: 1,\n",
       "   -6934984173902907058: 1,\n",
       "   6054513168416809489: 1,\n",
       "   -7777181488225799686: 1,\n",
       "   -641512608332176102: 0,\n",
       "   8585257720656886928: 1,\n",
       "   -4006689563783824034: 1,\n",
       "   -6960933699149920142: 0,\n",
       "   -1675214933240226744: 1,\n",
       "   3566030040050078944: 0,\n",
       "   -7601851972095713033: 1,\n",
       "   919758331757846196: 0,\n",
       "   -7479954488676789481: 0,\n",
       "   -5111942071352991968: 0,\n",
       "   -1179038864770940357: 0,\n",
       "   3793224896505453388: 0,\n",
       "   -8285789712896875863: 0,\n",
       "   -3151786242597289166: 0,\n",
       "   -8222154363700740906: 0,\n",
       "   -7280304153211951892: 0,\n",
       "   -6316253289001720012: 0,\n",
       "   -5601923042163402583: 0,\n",
       "   -4097276179843863864: 0,\n",
       "   -3974292741530883249: 0,\n",
       "   -3611971398933319034: 0,\n",
       "   -3298896997717449361: 0,\n",
       "   -2391636821540138939: 0,\n",
       "   -1298077450339893117: 0,\n",
       "   850252791025507856: 0,\n",
       "   3308139553633418447: 0,\n",
       "   3363162798428118293: 0,\n",
       "   3752961515919193949: 0,\n",
       "   4740803279378359546: 0,\n",
       "   6947045349994854962: 0}}]"
      ]
     },
     "execution_count": 163,
     "metadata": {},
     "output_type": "execute_result"
    }
   ],
   "source": [
    "path_stability"
   ]
  },
  {
   "cell_type": "code",
   "execution_count": null,
   "metadata": {},
   "outputs": [],
   "source": []
  },
  {
   "cell_type": "code",
   "execution_count": 13,
   "metadata": {},
   "outputs": [
    {
     "data": {
      "text/plain": [
       "(11.426388888888889, 24681)"
      ]
     },
     "execution_count": 13,
     "metadata": {},
     "output_type": "execute_result"
    }
   ],
   "source": [
    "readings = 0\n",
    "for dat in paths:\n",
    "    readings += dat['doc_count']\n",
    "\n",
    "readings/(90*24), readings"
   ]
  },
  {
   "cell_type": "code",
   "execution_count": 32,
   "metadata": {},
   "outputs": [
    {
     "data": {
      "text/plain": [
       "'Thu, 01 Jan 1970 17:59:59 CST'"
      ]
     },
     "execution_count": 32,
     "metadata": {},
     "output_type": "execute_result"
    }
   ],
   "source": [
    "(strftime(\"%a, %d %b %Y %H:%M:%S %Z\", localtime(1566596996.364593 - 1566510596.364635)))"
   ]
  },
  {
   "cell_type": "code",
   "execution_count": 31,
   "metadata": {},
   "outputs": [
    {
     "data": {
      "text/plain": [
       "('1566596996364.593', '1566510596364.635')"
      ]
     },
     "execution_count": 31,
     "metadata": {},
     "output_type": "execute_result"
    }
   ],
   "source": [
    "ut.getDateFormat(),ut.getDateFormat(delta=1)"
   ]
  },
  {
   "cell_type": "code",
   "execution_count": 43,
   "metadata": {},
   "outputs": [],
   "source": [
    "x = datetime.fromtimestamp(1566596996) - datetime.fromtimestamp(1566510000)"
   ]
  },
  {
   "cell_type": "code",
   "execution_count": 57,
   "metadata": {},
   "outputs": [
    {
     "name": "stdout",
     "output_type": "stream",
     "text": [
      "2019-06-02 19:02:52\n",
      "2019-06-02 19:07:36\n",
      "2019-06-02 19:26:51\n",
      "2019-06-02 19:33:47\n",
      "2019-06-02 19:54:43\n",
      "2019-06-02 20:04:59\n",
      "2019-06-02 20:33:54\n",
      "2019-06-02 21:58:25\n"
     ]
    }
   ],
   "source": [
    "ts = [1559523283.000, 1559520172.000, 1559520456.000, 1559521611.000, 1559522027.000, 1559523899.000, 1559525634.000, 1559530705.000]\n",
    "ts.sort()\n",
    "for t in ts:\n",
    "    print(datetime.fromtimestamp(t))"
   ]
  },
  {
   "cell_type": "code",
   "execution_count": 37,
   "metadata": {},
   "outputs": [
    {
     "data": {
      "text/plain": [
       "23.0"
      ]
     },
     "execution_count": 37,
     "metadata": {},
     "output_type": "execute_result"
    }
   ],
   "source": [
    "(1566596996.364593 - 1566510596.364635)//60//60"
   ]
  },
  {
   "cell_type": "markdown",
   "metadata": {},
   "source": [
    "### TODO: \n",
    "Exclude: Test from everything\n",
    "\n",
    "Add timerange, past 3 months everywhere.\n",
    "\n",
    "Add mean, variance and stats in legend\n",
    "\n",
    "FOR ANOMAILES, find max number of different paths, different paths of euqal costs\n",
    "and how often these nodes appear in different paths.\n",
    "\n",
    "Get Nodes only 3 hops apart\n",
    "\n",
    "Total number of unique ips, and hops\n",
    "\n",
    "**Ask Shawn**\n",
    "\n",
    "1. Circular Paths"
   ]
  },
  {
   "cell_type": "code",
   "execution_count": null,
   "metadata": {},
   "outputs": [],
   "source": []
  }
 ],
 "metadata": {
  "kernelspec": {
   "display_name": "Python 3",
   "language": "python",
   "name": "python3"
  },
  "language_info": {
   "codemirror_mode": {
    "name": "ipython",
    "version": 3
   },
   "file_extension": ".py",
   "mimetype": "text/x-python",
   "name": "python",
   "nbconvert_exporter": "python",
   "pygments_lexer": "ipython3",
   "version": "3.7.3"
  }
 },
 "nbformat": 4,
 "nbformat_minor": 4
}
