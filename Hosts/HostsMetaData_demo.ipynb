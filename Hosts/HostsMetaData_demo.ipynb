{
 "cells": [
  {
   "cell_type": "markdown",
   "metadata": {},
   "source": [
    "### HostsMetaData demo"
   ]
  },
  {
   "cell_type": "markdown",
   "metadata": {},
   "source": [
    "The class HostsMetaData maps IP address to hostname, site and some addional information. The mapping is done by selecting distinct values from the specified index as well as all ips/hosts from ps_meta. This way, it is possible to correct missing values for hostnames as well as IP addresses provided for a hostname."
   ]
  },
  {
   "cell_type": "markdown",
   "metadata": {},
   "source": [
    "#### Create an object and get the metadata for the index "
   ]
  },
  {
   "cell_type": "code",
   "execution_count": 1,
   "metadata": {},
   "outputs": [
    {
     "name": "stdout",
     "output_type": "stream",
     "text": [
      "\n",
      "Query  ps_retransmits  for the period 1592128800000 - 1592388000000\n",
      "getIPWhoIs for: 137.99.41.251 -> UCONN-NET\n",
      "getIPWhoIs for: 194.81.18.229 -> JANET-NET-DEV\n",
      "getIPWhoIs for: 2001:630:3c:f803::a -> JANET-ST\n",
      "getIPWhoIs for: 80.158.24.202 -> T-SYSTEMS-DTAG-OTC02\n",
      "BuildDataFrame took 14s\n"
     ]
    },
    {
     "data": {
      "text/html": [
       "<div>\n",
       "<style scoped>\n",
       "    .dataframe tbody tr th:only-of-type {\n",
       "        vertical-align: middle;\n",
       "    }\n",
       "\n",
       "    .dataframe tbody tr th {\n",
       "        vertical-align: top;\n",
       "    }\n",
       "\n",
       "    .dataframe thead th {\n",
       "        text-align: right;\n",
       "    }\n",
       "</style>\n",
       "<table border=\"1\" class=\"dataframe\">\n",
       "  <thead>\n",
       "    <tr style=\"text-align: right;\">\n",
       "      <th></th>\n",
       "      <th>ip</th>\n",
       "      <th>site_index</th>\n",
       "      <th>is_ipv6</th>\n",
       "      <th>host_index</th>\n",
       "      <th>site_meta</th>\n",
       "      <th>host_meta</th>\n",
       "      <th>admin_email</th>\n",
       "      <th>admin_name</th>\n",
       "      <th>ip_in_ps_meta</th>\n",
       "      <th>host_in_ps_meta</th>\n",
       "      <th>host_has_aliases</th>\n",
       "      <th>host</th>\n",
       "      <th>site</th>\n",
       "    </tr>\n",
       "  </thead>\n",
       "  <tbody>\n",
       "    <tr>\n",
       "      <th>0</th>\n",
       "      <td>109.105.124.88</td>\n",
       "      <td>NDGF-T1</td>\n",
       "      <td>False</td>\n",
       "      <td>perfsonar-ps2.ndgf.org</td>\n",
       "      <td>NDGF</td>\n",
       "      <td>perfsonar-ps2.ndgf.org</td>\n",
       "      <td>noc@nordu.net</td>\n",
       "      <td>NORDUnet</td>\n",
       "      <td>True</td>\n",
       "      <td>True</td>\n",
       "      <td>False</td>\n",
       "      <td>perfsonar-ps2.ndgf.org</td>\n",
       "      <td>NDGF-T1</td>\n",
       "    </tr>\n",
       "    <tr>\n",
       "      <th>1</th>\n",
       "      <td>109.105.125.233</td>\n",
       "      <td>FI_HIP_T2</td>\n",
       "      <td>False</td>\n",
       "      <td>pship02.csc.fi</td>\n",
       "      <td>None</td>\n",
       "      <td>pship02.csc.fi</td>\n",
       "      <td>johan.guldmyr@csc.fi</td>\n",
       "      <td>Johan Guldmyr</td>\n",
       "      <td>True</td>\n",
       "      <td>True</td>\n",
       "      <td>False</td>\n",
       "      <td>pship02.csc.fi</td>\n",
       "      <td>FI_HIP_T2</td>\n",
       "    </tr>\n",
       "    <tr>\n",
       "      <th>2</th>\n",
       "      <td>111.68.106.222</td>\n",
       "      <td>None</td>\n",
       "      <td>False</td>\n",
       "      <td>111.68.106.222</td>\n",
       "      <td>NaN</td>\n",
       "      <td>NaN</td>\n",
       "      <td>NaN</td>\n",
       "      <td>NaN</td>\n",
       "      <td>False</td>\n",
       "      <td>False</td>\n",
       "      <td>False</td>\n",
       "      <td>111.68.106.222</td>\n",
       "      <td></td>\n",
       "    </tr>\n",
       "    <tr>\n",
       "      <th>3</th>\n",
       "      <td>111.68.99.156</td>\n",
       "      <td>NCP-LCG2</td>\n",
       "      <td>False</td>\n",
       "      <td>ps.ncp.edu.pk</td>\n",
       "      <td>National Centre for Physics</td>\n",
       "      <td>ps.ncp.edu.pk</td>\n",
       "      <td>saqib.haleem@ncp.edu.pk</td>\n",
       "      <td>Saqib Haleem</td>\n",
       "      <td>True</td>\n",
       "      <td>True</td>\n",
       "      <td>False</td>\n",
       "      <td>ps.ncp.edu.pk</td>\n",
       "      <td>NCP-LCG2</td>\n",
       "    </tr>\n",
       "    <tr>\n",
       "      <th>4</th>\n",
       "      <td>128.142.208.132</td>\n",
       "      <td>CERN-PROD</td>\n",
       "      <td>False</td>\n",
       "      <td>psb01-gva.cern.ch</td>\n",
       "      <td>CERN</td>\n",
       "      <td>psb01-gva.cern.ch</td>\n",
       "      <td>perfsonar-cern@cern.ch</td>\n",
       "      <td>CERN perfSONAR support</td>\n",
       "      <td>True</td>\n",
       "      <td>True</td>\n",
       "      <td>False</td>\n",
       "      <td>psb01-gva.cern.ch</td>\n",
       "      <td>CERN-PROD</td>\n",
       "    </tr>\n",
       "  </tbody>\n",
       "</table>\n",
       "</div>"
      ],
      "text/plain": [
       "                ip site_index  is_ipv6              host_index  \\\n",
       "0   109.105.124.88    NDGF-T1    False  perfsonar-ps2.ndgf.org   \n",
       "1  109.105.125.233  FI_HIP_T2    False          pship02.csc.fi   \n",
       "2   111.68.106.222       None    False          111.68.106.222   \n",
       "3    111.68.99.156   NCP-LCG2    False           ps.ncp.edu.pk   \n",
       "4  128.142.208.132  CERN-PROD    False       psb01-gva.cern.ch   \n",
       "\n",
       "                     site_meta               host_meta  \\\n",
       "0                         NDGF  perfsonar-ps2.ndgf.org   \n",
       "1                         None          pship02.csc.fi   \n",
       "2                          NaN                     NaN   \n",
       "3  National Centre for Physics           ps.ncp.edu.pk   \n",
       "4                         CERN       psb01-gva.cern.ch   \n",
       "\n",
       "               admin_email              admin_name  ip_in_ps_meta  \\\n",
       "0            noc@nordu.net                NORDUnet           True   \n",
       "1     johan.guldmyr@csc.fi           Johan Guldmyr           True   \n",
       "2                      NaN                     NaN          False   \n",
       "3  saqib.haleem@ncp.edu.pk            Saqib Haleem           True   \n",
       "4   perfsonar-cern@cern.ch  CERN perfSONAR support           True   \n",
       "\n",
       "   host_in_ps_meta  host_has_aliases                    host       site  \n",
       "0             True             False  perfsonar-ps2.ndgf.org    NDGF-T1  \n",
       "1             True             False          pship02.csc.fi  FI_HIP_T2  \n",
       "2            False             False          111.68.106.222             \n",
       "3             True             False           ps.ncp.edu.pk   NCP-LCG2  \n",
       "4             True             False       psb01-gva.cern.ch  CERN-PROD  "
      ]
     },
     "execution_count": 1,
     "metadata": {},
     "output_type": "execute_result"
    }
   ],
   "source": [
    "import pandas as pd\n",
    "import queries as qrs\n",
    "import HostsMetaData as hmd\n",
    "\n",
    "retransmits = hmd.HostsMetaData('ps_retransmits', '2020-06-14 13:00', '2020-06-17 13:00')\n",
    "retransmits.df.head()"
   ]
  },
  {
   "cell_type": "markdown",
   "metadata": {},
   "source": [
    "The dataframe displays all hosts/ips and has a flag for those not part of the configuration - \"ip_in_ps_meta / host_in_ps_meta\"\n",
    "Empty site names not found neither in ps_*index* data nor ps_meta, are replaced by IPWhoIs network name.\n",
    "host_has_aliases - this is a flag that an IP address has multiple hostname aliases, but only one is kept in the dataframe"
   ]
  },
  {
   "cell_type": "markdown",
   "metadata": {},
   "source": [
    "#### Next run the query and put the data into a dataframe"
   ]
  },
  {
   "cell_type": "code",
   "execution_count": null,
   "metadata": {},
   "outputs": [
    {
     "name": "stdout",
     "output_type": "stream",
     "text": [
      "Run query AggBySrcDestIP for ps_retransmits \n"
     ]
    }
   ],
   "source": [
    "data = qrs.AggBySrcDestIP('ps_retransmits', 1592128800000, 1592388000000)\n",
    "idx_df = pd.DataFrame(data)\n",
    "print('Num of docs', len(idx_df))"
   ]
  },
  {
   "cell_type": "markdown",
   "metadata": {},
   "source": [
    "#### Finaly, remove the documents that are not part of the configuration"
   ]
  },
  {
   "cell_type": "code",
   "execution_count": null,
   "metadata": {},
   "outputs": [],
   "source": [
    "idx_df = retransmits.RemoveUnnecessaryData(idx_df)\n",
    "print('Num of docs after removal', len(idx_df))"
   ]
  }
 ],
 "metadata": {
  "kernelspec": {
   "display_name": "Python 3",
   "language": "python",
   "name": "python3"
  },
  "language_info": {
   "codemirror_mode": {
    "name": "ipython",
    "version": 3
   },
   "file_extension": ".py",
   "mimetype": "text/x-python",
   "name": "python",
   "nbconvert_exporter": "python",
   "pygments_lexer": "ipython3",
   "version": "3.7.3"
  }
 },
 "nbformat": 4,
 "nbformat_minor": 4
}
